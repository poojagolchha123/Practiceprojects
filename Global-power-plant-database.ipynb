{
 "cells": [
  {
   "cell_type": "markdown",
   "id": "4b73ef79",
   "metadata": {},
   "source": [
    "# Import the Data"
   ]
  },
  {
   "cell_type": "code",
   "execution_count": 2,
   "id": "396e2395",
   "metadata": {},
   "outputs": [],
   "source": [
    "import numpy as np\n",
    "import pandas as pd\n",
    "import matplotlib.pyplot as plt\n",
    "import seaborn as sns"
   ]
  },
  {
   "cell_type": "code",
   "execution_count": 3,
   "id": "44d29545",
   "metadata": {
    "scrolled": true
   },
   "outputs": [
    {
     "data": {
      "text/html": [
       "<div>\n",
       "<style scoped>\n",
       "    .dataframe tbody tr th:only-of-type {\n",
       "        vertical-align: middle;\n",
       "    }\n",
       "\n",
       "    .dataframe tbody tr th {\n",
       "        vertical-align: top;\n",
       "    }\n",
       "\n",
       "    .dataframe thead th {\n",
       "        text-align: right;\n",
       "    }\n",
       "</style>\n",
       "<table border=\"1\" class=\"dataframe\">\n",
       "  <thead>\n",
       "    <tr style=\"text-align: right;\">\n",
       "      <th></th>\n",
       "      <th>country</th>\n",
       "      <th>country_long</th>\n",
       "      <th>name</th>\n",
       "      <th>gppd_idnr</th>\n",
       "      <th>capacity_mw</th>\n",
       "      <th>latitude</th>\n",
       "      <th>longitude</th>\n",
       "      <th>primary_fuel</th>\n",
       "      <th>other_fuel1</th>\n",
       "      <th>other_fuel2</th>\n",
       "      <th>...</th>\n",
       "      <th>year_of_capacity_data</th>\n",
       "      <th>generation_gwh_2013</th>\n",
       "      <th>generation_gwh_2014</th>\n",
       "      <th>generation_gwh_2015</th>\n",
       "      <th>generation_gwh_2016</th>\n",
       "      <th>generation_gwh_2017</th>\n",
       "      <th>generation_gwh_2018</th>\n",
       "      <th>generation_gwh_2019</th>\n",
       "      <th>generation_data_source</th>\n",
       "      <th>estimated_generation_gwh</th>\n",
       "    </tr>\n",
       "  </thead>\n",
       "  <tbody>\n",
       "    <tr>\n",
       "      <th>0</th>\n",
       "      <td>IND</td>\n",
       "      <td>India</td>\n",
       "      <td>ACME Solar Tower</td>\n",
       "      <td>WRI1020239</td>\n",
       "      <td>2.5</td>\n",
       "      <td>28.1839</td>\n",
       "      <td>73.2407</td>\n",
       "      <td>Solar</td>\n",
       "      <td>NaN</td>\n",
       "      <td>NaN</td>\n",
       "      <td>...</td>\n",
       "      <td>NaN</td>\n",
       "      <td>NaN</td>\n",
       "      <td>NaN</td>\n",
       "      <td>NaN</td>\n",
       "      <td>NaN</td>\n",
       "      <td>NaN</td>\n",
       "      <td>NaN</td>\n",
       "      <td>NaN</td>\n",
       "      <td>NaN</td>\n",
       "      <td>NaN</td>\n",
       "    </tr>\n",
       "    <tr>\n",
       "      <th>1</th>\n",
       "      <td>IND</td>\n",
       "      <td>India</td>\n",
       "      <td>ADITYA CEMENT WORKS</td>\n",
       "      <td>WRI1019881</td>\n",
       "      <td>98.0</td>\n",
       "      <td>24.7663</td>\n",
       "      <td>74.6090</td>\n",
       "      <td>Coal</td>\n",
       "      <td>NaN</td>\n",
       "      <td>NaN</td>\n",
       "      <td>...</td>\n",
       "      <td>NaN</td>\n",
       "      <td>NaN</td>\n",
       "      <td>NaN</td>\n",
       "      <td>NaN</td>\n",
       "      <td>NaN</td>\n",
       "      <td>NaN</td>\n",
       "      <td>NaN</td>\n",
       "      <td>NaN</td>\n",
       "      <td>NaN</td>\n",
       "      <td>NaN</td>\n",
       "    </tr>\n",
       "    <tr>\n",
       "      <th>2</th>\n",
       "      <td>IND</td>\n",
       "      <td>India</td>\n",
       "      <td>AES Saurashtra Windfarms</td>\n",
       "      <td>WRI1026669</td>\n",
       "      <td>39.2</td>\n",
       "      <td>21.9038</td>\n",
       "      <td>69.3732</td>\n",
       "      <td>Wind</td>\n",
       "      <td>NaN</td>\n",
       "      <td>NaN</td>\n",
       "      <td>...</td>\n",
       "      <td>NaN</td>\n",
       "      <td>NaN</td>\n",
       "      <td>NaN</td>\n",
       "      <td>NaN</td>\n",
       "      <td>NaN</td>\n",
       "      <td>NaN</td>\n",
       "      <td>NaN</td>\n",
       "      <td>NaN</td>\n",
       "      <td>NaN</td>\n",
       "      <td>NaN</td>\n",
       "    </tr>\n",
       "    <tr>\n",
       "      <th>3</th>\n",
       "      <td>IND</td>\n",
       "      <td>India</td>\n",
       "      <td>AGARTALA GT</td>\n",
       "      <td>IND0000001</td>\n",
       "      <td>135.0</td>\n",
       "      <td>23.8712</td>\n",
       "      <td>91.3602</td>\n",
       "      <td>Gas</td>\n",
       "      <td>NaN</td>\n",
       "      <td>NaN</td>\n",
       "      <td>...</td>\n",
       "      <td>2019.0</td>\n",
       "      <td>NaN</td>\n",
       "      <td>617.789264</td>\n",
       "      <td>843.747</td>\n",
       "      <td>886.004428</td>\n",
       "      <td>663.774500</td>\n",
       "      <td>626.239128</td>\n",
       "      <td>NaN</td>\n",
       "      <td>Central Electricity Authority</td>\n",
       "      <td>NaN</td>\n",
       "    </tr>\n",
       "    <tr>\n",
       "      <th>4</th>\n",
       "      <td>IND</td>\n",
       "      <td>India</td>\n",
       "      <td>AKALTARA TPP</td>\n",
       "      <td>IND0000002</td>\n",
       "      <td>1800.0</td>\n",
       "      <td>21.9603</td>\n",
       "      <td>82.4091</td>\n",
       "      <td>Coal</td>\n",
       "      <td>Oil</td>\n",
       "      <td>NaN</td>\n",
       "      <td>...</td>\n",
       "      <td>2019.0</td>\n",
       "      <td>NaN</td>\n",
       "      <td>3035.550000</td>\n",
       "      <td>5916.370</td>\n",
       "      <td>6243.000000</td>\n",
       "      <td>5385.579736</td>\n",
       "      <td>7279.000000</td>\n",
       "      <td>NaN</td>\n",
       "      <td>Central Electricity Authority</td>\n",
       "      <td>NaN</td>\n",
       "    </tr>\n",
       "  </tbody>\n",
       "</table>\n",
       "<p>5 rows × 27 columns</p>\n",
       "</div>"
      ],
      "text/plain": [
       "  country country_long                      name   gppd_idnr  capacity_mw  \\\n",
       "0     IND        India          ACME Solar Tower  WRI1020239          2.5   \n",
       "1     IND        India       ADITYA CEMENT WORKS  WRI1019881         98.0   \n",
       "2     IND        India  AES Saurashtra Windfarms  WRI1026669         39.2   \n",
       "3     IND        India               AGARTALA GT  IND0000001        135.0   \n",
       "4     IND        India              AKALTARA TPP  IND0000002       1800.0   \n",
       "\n",
       "   latitude  longitude primary_fuel other_fuel1 other_fuel2  ...  \\\n",
       "0   28.1839    73.2407        Solar         NaN         NaN  ...   \n",
       "1   24.7663    74.6090         Coal         NaN         NaN  ...   \n",
       "2   21.9038    69.3732         Wind         NaN         NaN  ...   \n",
       "3   23.8712    91.3602          Gas         NaN         NaN  ...   \n",
       "4   21.9603    82.4091         Coal         Oil         NaN  ...   \n",
       "\n",
       "   year_of_capacity_data  generation_gwh_2013 generation_gwh_2014  \\\n",
       "0                    NaN                  NaN                 NaN   \n",
       "1                    NaN                  NaN                 NaN   \n",
       "2                    NaN                  NaN                 NaN   \n",
       "3                 2019.0                  NaN          617.789264   \n",
       "4                 2019.0                  NaN         3035.550000   \n",
       "\n",
       "  generation_gwh_2015 generation_gwh_2016 generation_gwh_2017  \\\n",
       "0                 NaN                 NaN                 NaN   \n",
       "1                 NaN                 NaN                 NaN   \n",
       "2                 NaN                 NaN                 NaN   \n",
       "3             843.747          886.004428          663.774500   \n",
       "4            5916.370         6243.000000         5385.579736   \n",
       "\n",
       "   generation_gwh_2018  generation_gwh_2019         generation_data_source  \\\n",
       "0                  NaN                  NaN                            NaN   \n",
       "1                  NaN                  NaN                            NaN   \n",
       "2                  NaN                  NaN                            NaN   \n",
       "3           626.239128                  NaN  Central Electricity Authority   \n",
       "4          7279.000000                  NaN  Central Electricity Authority   \n",
       "\n",
       "   estimated_generation_gwh  \n",
       "0                       NaN  \n",
       "1                       NaN  \n",
       "2                       NaN  \n",
       "3                       NaN  \n",
       "4                       NaN  \n",
       "\n",
       "[5 rows x 27 columns]"
      ]
     },
     "execution_count": 3,
     "metadata": {},
     "output_type": "execute_result"
    }
   ],
   "source": [
    "df=pd.read_csv('global-power-plant-database')\n",
    "df.head()"
   ]
  },
  {
   "cell_type": "markdown",
   "id": "1e899197",
   "metadata": {},
   "source": [
    "# Data Information\n"
   ]
  },
  {
   "cell_type": "code",
   "execution_count": 4,
   "id": "0f667a4f",
   "metadata": {},
   "outputs": [
    {
     "name": "stdout",
     "output_type": "stream",
     "text": [
      "<class 'pandas.core.frame.DataFrame'>\n",
      "RangeIndex: 907 entries, 0 to 906\n",
      "Data columns (total 27 columns):\n",
      " #   Column                    Non-Null Count  Dtype  \n",
      "---  ------                    --------------  -----  \n",
      " 0   country                   907 non-null    object \n",
      " 1   country_long              907 non-null    object \n",
      " 2   name                      907 non-null    object \n",
      " 3   gppd_idnr                 907 non-null    object \n",
      " 4   capacity_mw               907 non-null    float64\n",
      " 5   latitude                  861 non-null    float64\n",
      " 6   longitude                 861 non-null    float64\n",
      " 7   primary_fuel              907 non-null    object \n",
      " 8   other_fuel1               198 non-null    object \n",
      " 9   other_fuel2               1 non-null      object \n",
      " 10  other_fuel3               0 non-null      float64\n",
      " 11  commissioning_year        527 non-null    float64\n",
      " 12  owner                     342 non-null    object \n",
      " 13  source                    907 non-null    object \n",
      " 14  url                       907 non-null    object \n",
      " 15  geolocation_source        888 non-null    object \n",
      " 16  wepp_id                   0 non-null      float64\n",
      " 17  year_of_capacity_data     519 non-null    float64\n",
      " 18  generation_gwh_2013       0 non-null      float64\n",
      " 19  generation_gwh_2014       398 non-null    float64\n",
      " 20  generation_gwh_2015       422 non-null    float64\n",
      " 21  generation_gwh_2016       434 non-null    float64\n",
      " 22  generation_gwh_2017       440 non-null    float64\n",
      " 23  generation_gwh_2018       448 non-null    float64\n",
      " 24  generation_gwh_2019       0 non-null      float64\n",
      " 25  generation_data_source    449 non-null    object \n",
      " 26  estimated_generation_gwh  0 non-null      float64\n",
      "dtypes: float64(15), object(12)\n",
      "memory usage: 191.4+ KB\n"
     ]
    }
   ],
   "source": [
    "df.info()"
   ]
  },
  {
   "cell_type": "markdown",
   "id": "cb423c6d",
   "metadata": {},
   "source": [
    "# Checking the the null values"
   ]
  },
  {
   "cell_type": "code",
   "execution_count": 5,
   "id": "207815ef",
   "metadata": {},
   "outputs": [
    {
     "data": {
      "text/plain": [
       "country                       0\n",
       "country_long                  0\n",
       "name                          0\n",
       "gppd_idnr                     0\n",
       "capacity_mw                   0\n",
       "latitude                     46\n",
       "longitude                    46\n",
       "primary_fuel                  0\n",
       "other_fuel1                 709\n",
       "other_fuel2                 906\n",
       "other_fuel3                 907\n",
       "commissioning_year          380\n",
       "owner                       565\n",
       "source                        0\n",
       "url                           0\n",
       "geolocation_source           19\n",
       "wepp_id                     907\n",
       "year_of_capacity_data       388\n",
       "generation_gwh_2013         907\n",
       "generation_gwh_2014         509\n",
       "generation_gwh_2015         485\n",
       "generation_gwh_2016         473\n",
       "generation_gwh_2017         467\n",
       "generation_gwh_2018         459\n",
       "generation_gwh_2019         907\n",
       "generation_data_source      458\n",
       "estimated_generation_gwh    907\n",
       "dtype: int64"
      ]
     },
     "execution_count": 5,
     "metadata": {},
     "output_type": "execute_result"
    }
   ],
   "source": [
    "df.isnull().sum()"
   ]
  },
  {
   "cell_type": "code",
   "execution_count": 6,
   "id": "c410db9a",
   "metadata": {},
   "outputs": [
    {
     "data": {
      "text/plain": [
       "<AxesSubplot:>"
      ]
     },
     "execution_count": 6,
     "metadata": {},
     "output_type": "execute_result"
    },
    {
     "data": {
      "image/png": "[encoded data removed]",
      "text/plain": [
       "<Figure size 432x288 with 2 Axes>"
      ]
     },
     "metadata": {
      "needs_background": "light"
     },
     "output_type": "display_data"
    }
   ],
   "source": [
    "sns.heatmap(df.isnull())"
   ]
  },
  {
   "cell_type": "markdown",
   "id": "f9aa7198",
   "metadata": {},
   "source": [
    "# Checking the types of data"
   ]
  },
  {
   "cell_type": "code",
   "execution_count": 7,
   "id": "402679d7",
   "metadata": {},
   "outputs": [
    {
     "data": {
      "text/plain": [
       "country                      object\n",
       "country_long                 object\n",
       "name                         object\n",
       "gppd_idnr                    object\n",
       "capacity_mw                 float64\n",
       "latitude                    float64\n",
       "longitude                   float64\n",
       "primary_fuel                 object\n",
       "other_fuel1                  object\n",
       "other_fuel2                  object\n",
       "other_fuel3                 float64\n",
       "commissioning_year          float64\n",
       "owner                        object\n",
       "source                       object\n",
       "url                          object\n",
       "geolocation_source           object\n",
       "wepp_id                     float64\n",
       "year_of_capacity_data       float64\n",
       "generation_gwh_2013         float64\n",
       "generation_gwh_2014         float64\n",
       "generation_gwh_2015         float64\n",
       "generation_gwh_2016         float64\n",
       "generation_gwh_2017         float64\n",
       "generation_gwh_2018         float64\n",
       "generation_gwh_2019         float64\n",
       "generation_data_source       object\n",
       "estimated_generation_gwh    float64\n",
       "dtype: object"
      ]
     },
     "execution_count": 7,
     "metadata": {},
     "output_type": "execute_result"
    }
   ],
   "source": [
    "df.dtypes"
   ]
  },
  {
   "cell_type": "code",
   "execution_count": 8,
   "id": "0b9650de",
   "metadata": {},
   "outputs": [
    {
     "data": {
      "text/plain": [
       "Index(['country', 'country_long', 'name', 'gppd_idnr', 'capacity_mw',\n",
       "       'latitude', 'longitude', 'primary_fuel', 'other_fuel1', 'other_fuel2',\n",
       "       'other_fuel3', 'commissioning_year', 'owner', 'source', 'url',\n",
       "       'geolocation_source', 'wepp_id', 'year_of_capacity_data',\n",
       "       'generation_gwh_2013', 'generation_gwh_2014', 'generation_gwh_2015',\n",
       "       'generation_gwh_2016', 'generation_gwh_2017', 'generation_gwh_2018',\n",
       "       'generation_gwh_2019', 'generation_data_source',\n",
       "       'estimated_generation_gwh'],\n",
       "      dtype='object')"
      ]
     },
     "execution_count": 8,
     "metadata": {},
     "output_type": "execute_result"
    }
   ],
   "source": [
    "df.columns"
   ]
  },
  {
   "cell_type": "raw",
   "id": "5776bd60",
   "metadata": {},
   "source": [
    "Based on presence of higher numbers of null value following columns are deleted from the Data Frame\n",
    "\n"
   ]
  },
  {
   "cell_type": "code",
   "execution_count": 9,
   "id": "76f93436",
   "metadata": {},
   "outputs": [
    {
     "data": {
      "text/html": [
       "<div>\n",
       "<style scoped>\n",
       "    .dataframe tbody tr th:only-of-type {\n",
       "        vertical-align: middle;\n",
       "    }\n",
       "\n",
       "    .dataframe tbody tr th {\n",
       "        vertical-align: top;\n",
       "    }\n",
       "\n",
       "    .dataframe thead th {\n",
       "        text-align: right;\n",
       "    }\n",
       "</style>\n",
       "<table border=\"1\" class=\"dataframe\">\n",
       "  <thead>\n",
       "    <tr style=\"text-align: right;\">\n",
       "      <th></th>\n",
       "      <th>country</th>\n",
       "      <th>country_long</th>\n",
       "      <th>name</th>\n",
       "      <th>gppd_idnr</th>\n",
       "      <th>capacity_mw</th>\n",
       "      <th>primary_fuel</th>\n",
       "      <th>source</th>\n",
       "    </tr>\n",
       "  </thead>\n",
       "  <tbody>\n",
       "    <tr>\n",
       "      <th>0</th>\n",
       "      <td>IND</td>\n",
       "      <td>India</td>\n",
       "      <td>ACME Solar Tower</td>\n",
       "      <td>WRI1020239</td>\n",
       "      <td>2.5</td>\n",
       "      <td>Solar</td>\n",
       "      <td>National Renewable Energy Laboratory</td>\n",
       "    </tr>\n",
       "    <tr>\n",
       "      <th>1</th>\n",
       "      <td>IND</td>\n",
       "      <td>India</td>\n",
       "      <td>ADITYA CEMENT WORKS</td>\n",
       "      <td>WRI1019881</td>\n",
       "      <td>98.0</td>\n",
       "      <td>Coal</td>\n",
       "      <td>Ultratech Cement ltd</td>\n",
       "    </tr>\n",
       "    <tr>\n",
       "      <th>2</th>\n",
       "      <td>IND</td>\n",
       "      <td>India</td>\n",
       "      <td>AES Saurashtra Windfarms</td>\n",
       "      <td>WRI1026669</td>\n",
       "      <td>39.2</td>\n",
       "      <td>Wind</td>\n",
       "      <td>CDM</td>\n",
       "    </tr>\n",
       "    <tr>\n",
       "      <th>3</th>\n",
       "      <td>IND</td>\n",
       "      <td>India</td>\n",
       "      <td>AGARTALA GT</td>\n",
       "      <td>IND0000001</td>\n",
       "      <td>135.0</td>\n",
       "      <td>Gas</td>\n",
       "      <td>Central Electricity Authority</td>\n",
       "    </tr>\n",
       "    <tr>\n",
       "      <th>4</th>\n",
       "      <td>IND</td>\n",
       "      <td>India</td>\n",
       "      <td>AKALTARA TPP</td>\n",
       "      <td>IND0000002</td>\n",
       "      <td>1800.0</td>\n",
       "      <td>Coal</td>\n",
       "      <td>Central Electricity Authority</td>\n",
       "    </tr>\n",
       "    <tr>\n",
       "      <th>...</th>\n",
       "      <td>...</td>\n",
       "      <td>...</td>\n",
       "      <td>...</td>\n",
       "      <td>...</td>\n",
       "      <td>...</td>\n",
       "      <td>...</td>\n",
       "      <td>...</td>\n",
       "    </tr>\n",
       "    <tr>\n",
       "      <th>902</th>\n",
       "      <td>IND</td>\n",
       "      <td>India</td>\n",
       "      <td>YERMARUS TPP</td>\n",
       "      <td>IND0000513</td>\n",
       "      <td>1600.0</td>\n",
       "      <td>Coal</td>\n",
       "      <td>Central Electricity Authority</td>\n",
       "    </tr>\n",
       "    <tr>\n",
       "      <th>903</th>\n",
       "      <td>IND</td>\n",
       "      <td>India</td>\n",
       "      <td>Yelesandra Solar Power Plant</td>\n",
       "      <td>WRI1026222</td>\n",
       "      <td>3.0</td>\n",
       "      <td>Solar</td>\n",
       "      <td>Karnataka Power Corporation Limited</td>\n",
       "    </tr>\n",
       "    <tr>\n",
       "      <th>904</th>\n",
       "      <td>IND</td>\n",
       "      <td>India</td>\n",
       "      <td>Yelisirur wind power project</td>\n",
       "      <td>WRI1026776</td>\n",
       "      <td>25.5</td>\n",
       "      <td>Wind</td>\n",
       "      <td>CDM</td>\n",
       "    </tr>\n",
       "    <tr>\n",
       "      <th>905</th>\n",
       "      <td>IND</td>\n",
       "      <td>India</td>\n",
       "      <td>ZAWAR MINES</td>\n",
       "      <td>WRI1019901</td>\n",
       "      <td>80.0</td>\n",
       "      <td>Coal</td>\n",
       "      <td>Hindustan Zinc ltd</td>\n",
       "    </tr>\n",
       "    <tr>\n",
       "      <th>906</th>\n",
       "      <td>IND</td>\n",
       "      <td>India</td>\n",
       "      <td>iEnergy Theni Wind Farm</td>\n",
       "      <td>WRI1026761</td>\n",
       "      <td>16.5</td>\n",
       "      <td>Wind</td>\n",
       "      <td>CDM</td>\n",
       "    </tr>\n",
       "  </tbody>\n",
       "</table>\n",
       "<p>907 rows × 7 columns</p>\n",
       "</div>"
      ],
      "text/plain": [
       "    country country_long                          name   gppd_idnr  \\\n",
       "0       IND        India              ACME Solar Tower  WRI1020239   \n",
       "1       IND        India           ADITYA CEMENT WORKS  WRI1019881   \n",
       "2       IND        India      AES Saurashtra Windfarms  WRI1026669   \n",
       "3       IND        India                   AGARTALA GT  IND0000001   \n",
       "4       IND        India                  AKALTARA TPP  IND0000002   \n",
       "..      ...          ...                           ...         ...   \n",
       "902     IND        India                  YERMARUS TPP  IND0000513   \n",
       "903     IND        India  Yelesandra Solar Power Plant  WRI1026222   \n",
       "904     IND        India  Yelisirur wind power project  WRI1026776   \n",
       "905     IND        India                   ZAWAR MINES  WRI1019901   \n",
       "906     IND        India       iEnergy Theni Wind Farm  WRI1026761   \n",
       "\n",
       "     capacity_mw primary_fuel                                source  \n",
       "0            2.5        Solar  National Renewable Energy Laboratory  \n",
       "1           98.0         Coal                  Ultratech Cement ltd  \n",
       "2           39.2         Wind                                   CDM  \n",
       "3          135.0          Gas         Central Electricity Authority  \n",
       "4         1800.0         Coal         Central Electricity Authority  \n",
       "..           ...          ...                                   ...  \n",
       "902       1600.0         Coal         Central Electricity Authority  \n",
       "903          3.0        Solar   Karnataka Power Corporation Limited  \n",
       "904         25.5         Wind                                   CDM  \n",
       "905         80.0         Coal                    Hindustan Zinc ltd  \n",
       "906         16.5         Wind                                   CDM  \n",
       "\n",
       "[907 rows x 7 columns]"
      ]
     },
     "execution_count": 9,
     "metadata": {},
     "output_type": "execute_result"
    }
   ],
   "source": [
    "df.drop('latitude',inplace=True,axis=1)\n",
    "df.drop('longitude',inplace=True,axis=1)\n",
    "df.drop('other_fuel1',inplace=True,axis=1)\n",
    "df.drop('other_fuel2',inplace=True,axis=1)\n",
    "df.drop('other_fuel3',inplace=True,axis=1)\n",
    "df.drop('commissioning_year',inplace=True,axis=1)\n",
    "df.drop('owner',inplace=True,axis=1)\n",
    "df.drop('url',inplace=True,axis=1)\n",
    "df.drop('geolocation_source',inplace=True,axis=1)\n",
    "df.drop('wepp_id',inplace=True,axis=1)\n",
    "df.drop('year_of_capacity_data',inplace=True,axis=1)\n",
    "df.drop('generation_gwh_2013',inplace=True,axis=1)\n",
    "df.drop('generation_gwh_2014',inplace=True,axis=1)\n",
    "df.drop('generation_gwh_2015',inplace=True,axis=1)\n",
    "df.drop('generation_gwh_2016',inplace=True,axis=1)\n",
    "df.drop('generation_gwh_2017',inplace=True,axis=1)\n",
    "df.drop('generation_gwh_2018',inplace=True,axis=1)\n",
    "df.drop('generation_gwh_2019',inplace=True,axis=1)\n",
    "df.drop('generation_data_source',inplace=True,axis=1)\n",
    "df.drop('estimated_generation_gwh',inplace=True,axis=1)\n",
    "df\n"
   ]
  },
  {
   "cell_type": "code",
   "execution_count": 10,
   "id": "0a1cb203",
   "metadata": {},
   "outputs": [
    {
     "data": {
      "text/plain": [
       "country         0\n",
       "country_long    0\n",
       "name            0\n",
       "gppd_idnr       0\n",
       "capacity_mw     0\n",
       "primary_fuel    0\n",
       "source          0\n",
       "dtype: int64"
      ]
     },
     "execution_count": 10,
     "metadata": {},
     "output_type": "execute_result"
    }
   ],
   "source": [
    "df.isnull().sum()\n"
   ]
  },
  {
   "cell_type": "code",
   "execution_count": 11,
   "id": "a9545951",
   "metadata": {},
   "outputs": [
    {
     "data": {
      "text/plain": [
       "country          object\n",
       "country_long     object\n",
       "name             object\n",
       "gppd_idnr        object\n",
       "capacity_mw     float64\n",
       "primary_fuel     object\n",
       "source           object\n",
       "dtype: object"
      ]
     },
     "execution_count": 11,
     "metadata": {},
     "output_type": "execute_result"
    }
   ],
   "source": [
    "df.dtypes\n"
   ]
  },
  {
   "cell_type": "code",
   "execution_count": 12,
   "id": "fab00f10",
   "metadata": {},
   "outputs": [
    {
     "data": {
      "text/html": [
       "<div>\n",
       "<style scoped>\n",
       "    .dataframe tbody tr th:only-of-type {\n",
       "        vertical-align: middle;\n",
       "    }\n",
       "\n",
       "    .dataframe tbody tr th {\n",
       "        vertical-align: top;\n",
       "    }\n",
       "\n",
       "    .dataframe thead th {\n",
       "        text-align: right;\n",
       "    }\n",
       "</style>\n",
       "<table border=\"1\" class=\"dataframe\">\n",
       "  <thead>\n",
       "    <tr style=\"text-align: right;\">\n",
       "      <th></th>\n",
       "      <th>country</th>\n",
       "      <th>country_long</th>\n",
       "      <th>name</th>\n",
       "      <th>gppd_idnr</th>\n",
       "      <th>capacity_mw</th>\n",
       "      <th>primary_fuel</th>\n",
       "      <th>source</th>\n",
       "    </tr>\n",
       "  </thead>\n",
       "  <tbody>\n",
       "    <tr>\n",
       "      <th>0</th>\n",
       "      <td>0</td>\n",
       "      <td>0</td>\n",
       "      <td>0</td>\n",
       "      <td>657</td>\n",
       "      <td>2.5</td>\n",
       "      <td>6</td>\n",
       "      <td>109</td>\n",
       "    </tr>\n",
       "    <tr>\n",
       "      <th>1</th>\n",
       "      <td>0</td>\n",
       "      <td>0</td>\n",
       "      <td>1</td>\n",
       "      <td>519</td>\n",
       "      <td>98.0</td>\n",
       "      <td>1</td>\n",
       "      <td>174</td>\n",
       "    </tr>\n",
       "    <tr>\n",
       "      <th>2</th>\n",
       "      <td>0</td>\n",
       "      <td>0</td>\n",
       "      <td>2</td>\n",
       "      <td>853</td>\n",
       "      <td>39.2</td>\n",
       "      <td>7</td>\n",
       "      <td>21</td>\n",
       "    </tr>\n",
       "    <tr>\n",
       "      <th>3</th>\n",
       "      <td>0</td>\n",
       "      <td>0</td>\n",
       "      <td>3</td>\n",
       "      <td>0</td>\n",
       "      <td>135.0</td>\n",
       "      <td>2</td>\n",
       "      <td>22</td>\n",
       "    </tr>\n",
       "    <tr>\n",
       "      <th>4</th>\n",
       "      <td>0</td>\n",
       "      <td>0</td>\n",
       "      <td>4</td>\n",
       "      <td>1</td>\n",
       "      <td>1800.0</td>\n",
       "      <td>1</td>\n",
       "      <td>22</td>\n",
       "    </tr>\n",
       "    <tr>\n",
       "      <th>...</th>\n",
       "      <td>...</td>\n",
       "      <td>...</td>\n",
       "      <td>...</td>\n",
       "      <td>...</td>\n",
       "      <td>...</td>\n",
       "      <td>...</td>\n",
       "      <td>...</td>\n",
       "    </tr>\n",
       "    <tr>\n",
       "      <th>902</th>\n",
       "      <td>0</td>\n",
       "      <td>0</td>\n",
       "      <td>902</td>\n",
       "      <td>491</td>\n",
       "      <td>1600.0</td>\n",
       "      <td>1</td>\n",
       "      <td>22</td>\n",
       "    </tr>\n",
       "    <tr>\n",
       "      <th>903</th>\n",
       "      <td>0</td>\n",
       "      <td>0</td>\n",
       "      <td>903</td>\n",
       "      <td>822</td>\n",
       "      <td>3.0</td>\n",
       "      <td>6</td>\n",
       "      <td>77</td>\n",
       "    </tr>\n",
       "    <tr>\n",
       "      <th>904</th>\n",
       "      <td>0</td>\n",
       "      <td>0</td>\n",
       "      <td>904</td>\n",
       "      <td>891</td>\n",
       "      <td>25.5</td>\n",
       "      <td>7</td>\n",
       "      <td>21</td>\n",
       "    </tr>\n",
       "    <tr>\n",
       "      <th>905</th>\n",
       "      <td>0</td>\n",
       "      <td>0</td>\n",
       "      <td>905</td>\n",
       "      <td>539</td>\n",
       "      <td>80.0</td>\n",
       "      <td>1</td>\n",
       "      <td>59</td>\n",
       "    </tr>\n",
       "    <tr>\n",
       "      <th>906</th>\n",
       "      <td>0</td>\n",
       "      <td>0</td>\n",
       "      <td>906</td>\n",
       "      <td>876</td>\n",
       "      <td>16.5</td>\n",
       "      <td>7</td>\n",
       "      <td>21</td>\n",
       "    </tr>\n",
       "  </tbody>\n",
       "</table>\n",
       "<p>907 rows × 7 columns</p>\n",
       "</div>"
      ],
      "text/plain": [
       "     country  country_long  name  gppd_idnr  capacity_mw  primary_fuel  source\n",
       "0          0             0     0        657          2.5             6     109\n",
       "1          0             0     1        519         98.0             1     174\n",
       "2          0             0     2        853         39.2             7      21\n",
       "3          0             0     3          0        135.0             2      22\n",
       "4          0             0     4          1       1800.0             1      22\n",
       "..       ...           ...   ...        ...          ...           ...     ...\n",
       "902        0             0   902        491       1600.0             1      22\n",
       "903        0             0   903        822          3.0             6      77\n",
       "904        0             0   904        891         25.5             7      21\n",
       "905        0             0   905        539         80.0             1      59\n",
       "906        0             0   906        876         16.5             7      21\n",
       "\n",
       "[907 rows x 7 columns]"
      ]
     },
     "execution_count": 12,
     "metadata": {},
     "output_type": "execute_result"
    }
   ],
   "source": [
    "from sklearn.preprocessing import LabelEncoder\n",
    "le=LabelEncoder()\n",
    "\n",
    "list1= ['country','country_long','name','gppd_idnr','primary_fuel','source']\n",
    "\n",
    "for val in list1:\n",
    "    df[val]=le.fit_transform(df[val].astype(str))\n",
    "    \n",
    "df\n"
   ]
  },
  {
   "cell_type": "markdown",
   "id": "d6d27e40",
   "metadata": {},
   "source": [
    "# Exploratory Data Analysis\n",
    "\n"
   ]
  },
  {
   "cell_type": "code",
   "execution_count": 13,
   "id": "8bd80da9",
   "metadata": {},
   "outputs": [],
   "source": [
    "import seaborn as sns\n",
    "import matplotlib.pyplot as plt\n"
   ]
  },
  {
   "cell_type": "markdown",
   "id": "f1fc5684",
   "metadata": {},
   "source": [
    "# Data Visualization"
   ]
  },
  {
   "cell_type": "code",
   "execution_count": 53,
   "id": "59cc3b36",
   "metadata": {},
   "outputs": [
    {
     "data": {
      "text/plain": [
       "<AxesSubplot:xlabel='country', ylabel='primary_fuel'>"
      ]
     },
     "execution_count": 53,
     "metadata": {},
     "output_type": "execute_result"
    },
    {
     "data": {
      "image/png": "[encoded data removed]",
      "text/plain": [
       "<Figure size 432x288 with 1 Axes>"
      ]
     },
     "metadata": {
      "needs_background": "light"
     },
     "output_type": "display_data"
    }
   ],
   "source": [
    "sns.scatterplot(x='country',y='primary_fuel',data=df)"
   ]
  },
  {
   "cell_type": "code",
   "execution_count": 56,
   "id": "0f5520fc",
   "metadata": {},
   "outputs": [
    {
     "data": {
      "text/plain": [
       "<AxesSubplot:xlabel='country_long', ylabel='primary_fuel'>"
      ]
     },
     "execution_count": 56,
     "metadata": {},
     "output_type": "execute_result"
    },
    {
     "data": {
      "image/png": "[encoded data removed]",
      "text/plain": [
       "<Figure size 432x288 with 1 Axes>"
      ]
     },
     "metadata": {
      "needs_background": "light"
     },
     "output_type": "display_data"
    }
   ],
   "source": [
    "sns.scatterplot(x='country_long',y='primary_fuel',data=df)"
   ]
  },
  {
   "cell_type": "code",
   "execution_count": 59,
   "id": "b78cfc59",
   "metadata": {},
   "outputs": [
    {
     "data": {
      "text/plain": [
       "<AxesSubplot:xlabel='gppd_idnr', ylabel='primary_fuel'>"
      ]
     },
     "execution_count": 59,
     "metadata": {},
     "output_type": "execute_result"
    },
    {
     "data": {
      "image/png": "[encoded data removed]",
      "text/plain": [
       "<Figure size 432x288 with 1 Axes>"
      ]
     },
     "metadata": {
      "needs_background": "light"
     },
     "output_type": "display_data"
    }
   ],
   "source": [
    "sns.scatterplot(x='gppd_idnr',y='primary_fuel',data=df)"
   ]
  },
  {
   "cell_type": "code",
   "execution_count": 60,
   "id": "69d68f28",
   "metadata": {},
   "outputs": [
    {
     "data": {
      "text/plain": [
       "<AxesSubplot:xlabel='capacity_mw', ylabel='primary_fuel'>"
      ]
     },
     "execution_count": 60,
     "metadata": {},
     "output_type": "execute_result"
    },
    {
     "data": {
      "image/png": "[encoded data removed]",
      "text/plain": [
       "<Figure size 432x288 with 1 Axes>"
      ]
     },
     "metadata": {
      "needs_background": "light"
     },
     "output_type": "display_data"
    }
   ],
   "source": [
    "sns.scatterplot(x='capacity_mw',y='primary_fuel',data=df)"
   ]
  },
  {
   "cell_type": "code",
   "execution_count": 61,
   "id": "960fac2a",
   "metadata": {},
   "outputs": [
    {
     "data": {
      "text/plain": [
       "<AxesSubplot:xlabel='source', ylabel='primary_fuel'>"
      ]
     },
     "execution_count": 61,
     "metadata": {},
     "output_type": "execute_result"
    },
    {
     "data": {
      "image/png": "[encoded data removed]",
      "text/plain": [
       "<Figure size 432x288 with 1 Axes>"
      ]
     },
     "metadata": {
      "needs_background": "light"
     },
     "output_type": "display_data"
    }
   ],
   "source": [
    "sns.scatterplot(x='source',y='primary_fuel',data=df)"
   ]
  },
  {
   "cell_type": "code",
   "execution_count": 62,
   "id": "aad3d20a",
   "metadata": {},
   "outputs": [
    {
     "data": {
      "text/plain": [
       "country            AxesSubplot(0.125,0.657941;0.0945122x0.222059)\n",
       "country_long    AxesSubplot(0.238415,0.657941;0.0945122x0.222059)\n",
       "gppd_idnr       AxesSubplot(0.351829,0.657941;0.0945122x0.222059)\n",
       "capacity_mw     AxesSubplot(0.465244,0.657941;0.0945122x0.222059)\n",
       "primary_fuel    AxesSubplot(0.578659,0.657941;0.0945122x0.222059)\n",
       "source          AxesSubplot(0.692073,0.657941;0.0945122x0.222059)\n",
       "dtype: object"
      ]
     },
     "execution_count": 62,
     "metadata": {},
     "output_type": "execute_result"
    },
    {
     "data": {
      "image/png": "[encoded data removed]",
      "text/plain": [
       "<Figure size 720x864 with 21 Axes>"
      ]
     },
     "metadata": {
      "needs_background": "light"
     },
     "output_type": "display_data"
    }
   ],
   "source": [
    "df.plot(kind='box',subplots=True,layout=(3,7),figsize=(10,12))"
   ]
  },
  {
   "cell_type": "markdown",
   "id": "841a2626",
   "metadata": {},
   "source": [
    "# Data Describe"
   ]
  },
  {
   "cell_type": "code",
   "execution_count": 15,
   "id": "f865d3ee",
   "metadata": {},
   "outputs": [
    {
     "data": {
      "text/html": [
       "<div>\n",
       "<style scoped>\n",
       "    .dataframe tbody tr th:only-of-type {\n",
       "        vertical-align: middle;\n",
       "    }\n",
       "\n",
       "    .dataframe tbody tr th {\n",
       "        vertical-align: top;\n",
       "    }\n",
       "\n",
       "    .dataframe thead th {\n",
       "        text-align: right;\n",
       "    }\n",
       "</style>\n",
       "<table border=\"1\" class=\"dataframe\">\n",
       "  <thead>\n",
       "    <tr style=\"text-align: right;\">\n",
       "      <th></th>\n",
       "      <th>country</th>\n",
       "      <th>country_long</th>\n",
       "      <th>name</th>\n",
       "      <th>gppd_idnr</th>\n",
       "      <th>capacity_mw</th>\n",
       "      <th>primary_fuel</th>\n",
       "      <th>source</th>\n",
       "    </tr>\n",
       "  </thead>\n",
       "  <tbody>\n",
       "    <tr>\n",
       "      <th>count</th>\n",
       "      <td>907.0</td>\n",
       "      <td>907.0</td>\n",
       "      <td>907.000000</td>\n",
       "      <td>907.000000</td>\n",
       "      <td>907.000000</td>\n",
       "      <td>907.000000</td>\n",
       "      <td>907.000000</td>\n",
       "    </tr>\n",
       "    <tr>\n",
       "      <th>mean</th>\n",
       "      <td>0.0</td>\n",
       "      <td>0.0</td>\n",
       "      <td>453.000000</td>\n",
       "      <td>453.000000</td>\n",
       "      <td>326.223755</td>\n",
       "      <td>3.206174</td>\n",
       "      <td>43.847850</td>\n",
       "    </tr>\n",
       "    <tr>\n",
       "      <th>std</th>\n",
       "      <td>0.0</td>\n",
       "      <td>0.0</td>\n",
       "      <td>261.972645</td>\n",
       "      <td>261.972645</td>\n",
       "      <td>590.085456</td>\n",
       "      <td>2.280652</td>\n",
       "      <td>44.642818</td>\n",
       "    </tr>\n",
       "    <tr>\n",
       "      <th>min</th>\n",
       "      <td>0.0</td>\n",
       "      <td>0.0</td>\n",
       "      <td>0.000000</td>\n",
       "      <td>0.000000</td>\n",
       "      <td>0.000000</td>\n",
       "      <td>0.000000</td>\n",
       "      <td>0.000000</td>\n",
       "    </tr>\n",
       "    <tr>\n",
       "      <th>25%</th>\n",
       "      <td>0.0</td>\n",
       "      <td>0.0</td>\n",
       "      <td>226.500000</td>\n",
       "      <td>226.500000</td>\n",
       "      <td>16.725000</td>\n",
       "      <td>1.000000</td>\n",
       "      <td>22.000000</td>\n",
       "    </tr>\n",
       "    <tr>\n",
       "      <th>50%</th>\n",
       "      <td>0.0</td>\n",
       "      <td>0.0</td>\n",
       "      <td>453.000000</td>\n",
       "      <td>453.000000</td>\n",
       "      <td>59.200000</td>\n",
       "      <td>3.000000</td>\n",
       "      <td>22.000000</td>\n",
       "    </tr>\n",
       "    <tr>\n",
       "      <th>75%</th>\n",
       "      <td>0.0</td>\n",
       "      <td>0.0</td>\n",
       "      <td>679.500000</td>\n",
       "      <td>679.500000</td>\n",
       "      <td>385.250000</td>\n",
       "      <td>6.000000</td>\n",
       "      <td>29.500000</td>\n",
       "    </tr>\n",
       "    <tr>\n",
       "      <th>max</th>\n",
       "      <td>0.0</td>\n",
       "      <td>0.0</td>\n",
       "      <td>906.000000</td>\n",
       "      <td>906.000000</td>\n",
       "      <td>4760.000000</td>\n",
       "      <td>7.000000</td>\n",
       "      <td>190.000000</td>\n",
       "    </tr>\n",
       "  </tbody>\n",
       "</table>\n",
       "</div>"
      ],
      "text/plain": [
       "       country  country_long        name   gppd_idnr  capacity_mw  \\\n",
       "count    907.0         907.0  907.000000  907.000000   907.000000   \n",
       "mean       0.0           0.0  453.000000  453.000000   326.223755   \n",
       "std        0.0           0.0  261.972645  261.972645   590.085456   \n",
       "min        0.0           0.0    0.000000    0.000000     0.000000   \n",
       "25%        0.0           0.0  226.500000  226.500000    16.725000   \n",
       "50%        0.0           0.0  453.000000  453.000000    59.200000   \n",
       "75%        0.0           0.0  679.500000  679.500000   385.250000   \n",
       "max        0.0           0.0  906.000000  906.000000  4760.000000   \n",
       "\n",
       "       primary_fuel      source  \n",
       "count    907.000000  907.000000  \n",
       "mean       3.206174   43.847850  \n",
       "std        2.280652   44.642818  \n",
       "min        0.000000    0.000000  \n",
       "25%        1.000000   22.000000  \n",
       "50%        3.000000   22.000000  \n",
       "75%        6.000000   29.500000  \n",
       "max        7.000000  190.000000  "
      ]
     },
     "execution_count": 15,
     "metadata": {},
     "output_type": "execute_result"
    }
   ],
   "source": [
    "df.describe()"
   ]
  },
  {
   "cell_type": "code",
   "execution_count": 16,
   "id": "88e23c32",
   "metadata": {},
   "outputs": [
    {
     "data": {
      "image/png": "[encoded data removed]",
      "text/plain": [
       "<Figure size 1080x864 with 2 Axes>"
      ]
     },
     "metadata": {
      "needs_background": "light"
     },
     "output_type": "display_data"
    }
   ],
   "source": [
    "import matplotlib.pyplot as plt\n",
    "plt.figure(figsize=(15,12))\n",
    "sns.heatmap(round(df.describe()[1:].transpose(),2),linewidth=2,annot=True,fmt='f')\n",
    "plt.xticks(fontsize=18)\n",
    "plt.yticks(fontsize=12)\n",
    "plt.title(\"Variables Summary\")\n",
    "plt.show()"
   ]
  },
  {
   "cell_type": "markdown",
   "id": "a5393ad4",
   "metadata": {},
   "source": [
    "# Data Correlation"
   ]
  },
  {
   "cell_type": "code",
   "execution_count": 17,
   "id": "d5254a47",
   "metadata": {},
   "outputs": [
    {
     "data": {
      "text/html": [
       "<div>\n",
       "<style scoped>\n",
       "    .dataframe tbody tr th:only-of-type {\n",
       "        vertical-align: middle;\n",
       "    }\n",
       "\n",
       "    .dataframe tbody tr th {\n",
       "        vertical-align: top;\n",
       "    }\n",
       "\n",
       "    .dataframe thead th {\n",
       "        text-align: right;\n",
       "    }\n",
       "</style>\n",
       "<table border=\"1\" class=\"dataframe\">\n",
       "  <thead>\n",
       "    <tr style=\"text-align: right;\">\n",
       "      <th></th>\n",
       "      <th>country</th>\n",
       "      <th>country_long</th>\n",
       "      <th>name</th>\n",
       "      <th>gppd_idnr</th>\n",
       "      <th>capacity_mw</th>\n",
       "      <th>primary_fuel</th>\n",
       "      <th>source</th>\n",
       "    </tr>\n",
       "  </thead>\n",
       "  <tbody>\n",
       "    <tr>\n",
       "      <th>country</th>\n",
       "      <td>NaN</td>\n",
       "      <td>NaN</td>\n",
       "      <td>NaN</td>\n",
       "      <td>NaN</td>\n",
       "      <td>NaN</td>\n",
       "      <td>NaN</td>\n",
       "      <td>NaN</td>\n",
       "    </tr>\n",
       "    <tr>\n",
       "      <th>country_long</th>\n",
       "      <td>NaN</td>\n",
       "      <td>NaN</td>\n",
       "      <td>NaN</td>\n",
       "      <td>NaN</td>\n",
       "      <td>NaN</td>\n",
       "      <td>NaN</td>\n",
       "      <td>NaN</td>\n",
       "    </tr>\n",
       "    <tr>\n",
       "      <th>name</th>\n",
       "      <td>NaN</td>\n",
       "      <td>NaN</td>\n",
       "      <td>1.000000</td>\n",
       "      <td>0.332205</td>\n",
       "      <td>0.060240</td>\n",
       "      <td>0.040753</td>\n",
       "      <td>-0.014640</td>\n",
       "    </tr>\n",
       "    <tr>\n",
       "      <th>gppd_idnr</th>\n",
       "      <td>NaN</td>\n",
       "      <td>NaN</td>\n",
       "      <td>0.332205</td>\n",
       "      <td>1.000000</td>\n",
       "      <td>-0.335742</td>\n",
       "      <td>0.609180</td>\n",
       "      <td>0.416384</td>\n",
       "    </tr>\n",
       "    <tr>\n",
       "      <th>capacity_mw</th>\n",
       "      <td>NaN</td>\n",
       "      <td>NaN</td>\n",
       "      <td>0.060240</td>\n",
       "      <td>-0.335742</td>\n",
       "      <td>1.000000</td>\n",
       "      <td>-0.380395</td>\n",
       "      <td>-0.242122</td>\n",
       "    </tr>\n",
       "    <tr>\n",
       "      <th>primary_fuel</th>\n",
       "      <td>NaN</td>\n",
       "      <td>NaN</td>\n",
       "      <td>0.040753</td>\n",
       "      <td>0.609180</td>\n",
       "      <td>-0.380395</td>\n",
       "      <td>1.000000</td>\n",
       "      <td>0.053613</td>\n",
       "    </tr>\n",
       "    <tr>\n",
       "      <th>source</th>\n",
       "      <td>NaN</td>\n",
       "      <td>NaN</td>\n",
       "      <td>-0.014640</td>\n",
       "      <td>0.416384</td>\n",
       "      <td>-0.242122</td>\n",
       "      <td>0.053613</td>\n",
       "      <td>1.000000</td>\n",
       "    </tr>\n",
       "  </tbody>\n",
       "</table>\n",
       "</div>"
      ],
      "text/plain": [
       "              country  country_long      name  gppd_idnr  capacity_mw  \\\n",
       "country           NaN           NaN       NaN        NaN          NaN   \n",
       "country_long      NaN           NaN       NaN        NaN          NaN   \n",
       "name              NaN           NaN  1.000000   0.332205     0.060240   \n",
       "gppd_idnr         NaN           NaN  0.332205   1.000000    -0.335742   \n",
       "capacity_mw       NaN           NaN  0.060240  -0.335742     1.000000   \n",
       "primary_fuel      NaN           NaN  0.040753   0.609180    -0.380395   \n",
       "source            NaN           NaN -0.014640   0.416384    -0.242122   \n",
       "\n",
       "              primary_fuel    source  \n",
       "country                NaN       NaN  \n",
       "country_long           NaN       NaN  \n",
       "name              0.040753 -0.014640  \n",
       "gppd_idnr         0.609180  0.416384  \n",
       "capacity_mw      -0.380395 -0.242122  \n",
       "primary_fuel      1.000000  0.053613  \n",
       "source            0.053613  1.000000  "
      ]
     },
     "execution_count": 17,
     "metadata": {},
     "output_type": "execute_result"
    }
   ],
   "source": [
    "df.corr()"
   ]
  },
  {
   "cell_type": "code",
   "execution_count": 18,
   "id": "54e7ab14",
   "metadata": {},
   "outputs": [
    {
     "data": {
      "text/plain": [
       "<AxesSubplot:>"
      ]
     },
     "execution_count": 18,
     "metadata": {},
     "output_type": "execute_result"
    },
    {
     "data": {
      "image/png": "[encoded data removed]",
      "text/plain": [
       "<Figure size 1080x504 with 2 Axes>"
      ]
     },
     "metadata": {
      "needs_background": "light"
     },
     "output_type": "display_data"
    }
   ],
   "source": [
    "plt.figure(figsize=(15,7))\n",
    "sns.heatmap(df.corr(),annot=True,linewidth=0.5,linecolor=\"black\",fmt='.2f')"
   ]
  },
  {
   "cell_type": "markdown",
   "id": "40f74181",
   "metadata": {},
   "source": [
    "# Data skewness"
   ]
  },
  {
   "cell_type": "code",
   "execution_count": 19,
   "id": "12682518",
   "metadata": {},
   "outputs": [
    {
     "data": {
      "text/plain": [
       "country         0.000000\n",
       "country_long    0.000000\n",
       "name            0.000000\n",
       "gppd_idnr       0.000000\n",
       "capacity_mw     3.123576\n",
       "primary_fuel    0.472251\n",
       "source          1.827373\n",
       "dtype: float64"
      ]
     },
     "execution_count": 19,
     "metadata": {},
     "output_type": "execute_result"
    }
   ],
   "source": [
    "df.skew()\n"
   ]
  },
  {
   "cell_type": "code",
   "execution_count": 20,
   "id": "845ecd95",
   "metadata": {},
   "outputs": [],
   "source": [
    "from scipy.stats import zscore\n",
    "from scipy import stats\n"
   ]
  },
  {
   "cell_type": "code",
   "execution_count": 21,
   "id": "e1ad53dd",
   "metadata": {},
   "outputs": [
    {
     "data": {
      "text/plain": [
       "(array([ 15,  71,  80, 143, 147, 191, 209, 299, 308, 321, 345, 363, 364,\n",
       "        375, 482, 493, 494, 648, 657, 661, 669, 689, 695, 726, 767, 786,\n",
       "        788, 808, 832, 870, 871, 879, 880, 895, 900], dtype=int64),\n",
       " array([4, 6, 6, 4, 4, 6, 4, 6, 4, 6, 6, 4, 4, 4, 4, 4, 4, 4, 4, 6, 6, 6,\n",
       "        4, 4, 4, 4, 4, 4, 6, 6, 6, 6, 4, 6, 6], dtype=int64))"
      ]
     },
     "execution_count": 21,
     "metadata": {},
     "output_type": "execute_result"
    }
   ],
   "source": [
    "z=np.abs(zscore(df))\n",
    "threshold = 3\n",
    "np.where(z>3)\n"
   ]
  },
  {
   "cell_type": "code",
   "execution_count": 22,
   "id": "41cd6781",
   "metadata": {},
   "outputs": [
    {
     "data": {
      "text/html": [
       "<div>\n",
       "<style scoped>\n",
       "    .dataframe tbody tr th:only-of-type {\n",
       "        vertical-align: middle;\n",
       "    }\n",
       "\n",
       "    .dataframe tbody tr th {\n",
       "        vertical-align: top;\n",
       "    }\n",
       "\n",
       "    .dataframe thead th {\n",
       "        text-align: right;\n",
       "    }\n",
       "</style>\n",
       "<table border=\"1\" class=\"dataframe\">\n",
       "  <thead>\n",
       "    <tr style=\"text-align: right;\">\n",
       "      <th></th>\n",
       "      <th>country</th>\n",
       "      <th>country_long</th>\n",
       "      <th>gppd_idnr</th>\n",
       "      <th>capacity_mw</th>\n",
       "      <th>primary_fuel</th>\n",
       "      <th>source</th>\n",
       "    </tr>\n",
       "  </thead>\n",
       "  <tbody>\n",
       "    <tr>\n",
       "      <th>0</th>\n",
       "      <td>0</td>\n",
       "      <td>0</td>\n",
       "      <td>657</td>\n",
       "      <td>2.5</td>\n",
       "      <td>6</td>\n",
       "      <td>109</td>\n",
       "    </tr>\n",
       "    <tr>\n",
       "      <th>1</th>\n",
       "      <td>0</td>\n",
       "      <td>0</td>\n",
       "      <td>519</td>\n",
       "      <td>98.0</td>\n",
       "      <td>1</td>\n",
       "      <td>174</td>\n",
       "    </tr>\n",
       "    <tr>\n",
       "      <th>2</th>\n",
       "      <td>0</td>\n",
       "      <td>0</td>\n",
       "      <td>853</td>\n",
       "      <td>39.2</td>\n",
       "      <td>7</td>\n",
       "      <td>21</td>\n",
       "    </tr>\n",
       "    <tr>\n",
       "      <th>3</th>\n",
       "      <td>0</td>\n",
       "      <td>0</td>\n",
       "      <td>0</td>\n",
       "      <td>135.0</td>\n",
       "      <td>2</td>\n",
       "      <td>22</td>\n",
       "    </tr>\n",
       "    <tr>\n",
       "      <th>4</th>\n",
       "      <td>0</td>\n",
       "      <td>0</td>\n",
       "      <td>1</td>\n",
       "      <td>1800.0</td>\n",
       "      <td>1</td>\n",
       "      <td>22</td>\n",
       "    </tr>\n",
       "    <tr>\n",
       "      <th>...</th>\n",
       "      <td>...</td>\n",
       "      <td>...</td>\n",
       "      <td>...</td>\n",
       "      <td>...</td>\n",
       "      <td>...</td>\n",
       "      <td>...</td>\n",
       "    </tr>\n",
       "    <tr>\n",
       "      <th>902</th>\n",
       "      <td>0</td>\n",
       "      <td>0</td>\n",
       "      <td>491</td>\n",
       "      <td>1600.0</td>\n",
       "      <td>1</td>\n",
       "      <td>22</td>\n",
       "    </tr>\n",
       "    <tr>\n",
       "      <th>903</th>\n",
       "      <td>0</td>\n",
       "      <td>0</td>\n",
       "      <td>822</td>\n",
       "      <td>3.0</td>\n",
       "      <td>6</td>\n",
       "      <td>77</td>\n",
       "    </tr>\n",
       "    <tr>\n",
       "      <th>904</th>\n",
       "      <td>0</td>\n",
       "      <td>0</td>\n",
       "      <td>891</td>\n",
       "      <td>25.5</td>\n",
       "      <td>7</td>\n",
       "      <td>21</td>\n",
       "    </tr>\n",
       "    <tr>\n",
       "      <th>905</th>\n",
       "      <td>0</td>\n",
       "      <td>0</td>\n",
       "      <td>539</td>\n",
       "      <td>80.0</td>\n",
       "      <td>1</td>\n",
       "      <td>59</td>\n",
       "    </tr>\n",
       "    <tr>\n",
       "      <th>906</th>\n",
       "      <td>0</td>\n",
       "      <td>0</td>\n",
       "      <td>876</td>\n",
       "      <td>16.5</td>\n",
       "      <td>7</td>\n",
       "      <td>21</td>\n",
       "    </tr>\n",
       "  </tbody>\n",
       "</table>\n",
       "<p>907 rows × 6 columns</p>\n",
       "</div>"
      ],
      "text/plain": [
       "     country  country_long  gppd_idnr  capacity_mw  primary_fuel  source\n",
       "0          0             0        657          2.5             6     109\n",
       "1          0             0        519         98.0             1     174\n",
       "2          0             0        853         39.2             7      21\n",
       "3          0             0          0        135.0             2      22\n",
       "4          0             0          1       1800.0             1      22\n",
       "..       ...           ...        ...          ...           ...     ...\n",
       "902        0             0        491       1600.0             1      22\n",
       "903        0             0        822          3.0             6      77\n",
       "904        0             0        891         25.5             7      21\n",
       "905        0             0        539         80.0             1      59\n",
       "906        0             0        876         16.5             7      21\n",
       "\n",
       "[907 rows x 6 columns]"
      ]
     },
     "execution_count": 22,
     "metadata": {},
     "output_type": "execute_result"
    }
   ],
   "source": [
    "df.drop('name',inplace=True,axis=1)\n",
    "df\n"
   ]
  },
  {
   "cell_type": "code",
   "execution_count": 23,
   "id": "34f29cf6",
   "metadata": {},
   "outputs": [],
   "source": [
    "import warnings\n",
    "warnings.filterwarnings('ignore')\n"
   ]
  },
  {
   "cell_type": "code",
   "execution_count": 24,
   "id": "031be45d",
   "metadata": {},
   "outputs": [
    {
     "data": {
      "text/plain": [
       "capacity_mw    -0.380395\n",
       "source          0.053613\n",
       "gppd_idnr       0.609180\n",
       "primary_fuel    1.000000\n",
       "country              NaN\n",
       "country_long         NaN\n",
       "Name: primary_fuel, dtype: float64"
      ]
     },
     "execution_count": 24,
     "metadata": {},
     "output_type": "execute_result"
    }
   ],
   "source": [
    "df.corr()['primary_fuel'].sort_values()\n"
   ]
  },
  {
   "cell_type": "code",
   "execution_count": 25,
   "id": "274b9644",
   "metadata": {},
   "outputs": [
    {
     "data": {
      "text/plain": [
       "primary_fuel   -0.380395\n",
       "gppd_idnr      -0.335742\n",
       "source         -0.242122\n",
       "capacity_mw     1.000000\n",
       "country              NaN\n",
       "country_long         NaN\n",
       "Name: capacity_mw, dtype: float64"
      ]
     },
     "execution_count": 25,
     "metadata": {},
     "output_type": "execute_result"
    }
   ],
   "source": [
    "df.corr()['capacity_mw'].sort_values()\n"
   ]
  },
  {
   "cell_type": "markdown",
   "id": "c41b2c66",
   "metadata": {},
   "source": [
    "# Data Modelling where target is primary fuel"
   ]
  },
  {
   "cell_type": "code",
   "execution_count": 26,
   "id": "a7b05012",
   "metadata": {},
   "outputs": [],
   "source": [
    "x=df.drop(\"primary_fuel\", axis=1)\n",
    "y=df[\"primary_fuel\"]\n"
   ]
  },
  {
   "cell_type": "code",
   "execution_count": 27,
   "id": "3b8b0f75",
   "metadata": {},
   "outputs": [],
   "source": [
    "from sklearn.model_selection import train_test_split\n",
    "from sklearn.naive_bayes import GaussianNB\n",
    "from sklearn.naive_bayes import MultinomialNB\n",
    "from sklearn.metrics import accuracy_score,confusion_matrix,classification_report\n"
   ]
  },
  {
   "cell_type": "markdown",
   "id": "145324b5",
   "metadata": {},
   "source": [
    "# Separating the data in x and y"
   ]
  },
  {
   "cell_type": "code",
   "execution_count": 29,
   "id": "46e0ffc9",
   "metadata": {},
   "outputs": [],
   "source": [
    "x_train,x_test,y_train,y_test = train_test_split(x,y,test_size=0.22,random_state=43)\n"
   ]
  },
  {
   "cell_type": "markdown",
   "id": "3473e57d",
   "metadata": {},
   "source": [
    "# GaussianNB\n",
    "\n"
   ]
  },
  {
   "cell_type": "code",
   "execution_count": 30,
   "id": "472cd50b",
   "metadata": {},
   "outputs": [
    {
     "name": "stdout",
     "output_type": "stream",
     "text": [
      "0.635\n",
      "[[ 6  1  0  0  0  0  0  0]\n",
      " [10 11  0 34  0  1  2  0]\n",
      " [ 2  0  0 17  0  0  2  0]\n",
      " [ 0  0  0 51  0  0  0  0]\n",
      " [ 0  0  0  1  0  0  0  0]\n",
      " [ 1  0  0  2  0  2  0  0]\n",
      " [ 0  0  0  0  0  0 27  0]\n",
      " [ 0  0  0  0  0  0  0 30]]\n",
      "              precision    recall  f1-score   support\n",
      "\n",
      "           0       0.32      0.86      0.46         7\n",
      "           1       0.92      0.19      0.31        58\n",
      "           2       0.00      0.00      0.00        21\n",
      "           3       0.49      1.00      0.65        51\n",
      "           4       0.00      0.00      0.00         1\n",
      "           5       0.67      0.40      0.50         5\n",
      "           6       0.87      1.00      0.93        27\n",
      "           7       1.00      1.00      1.00        30\n",
      "\n",
      "    accuracy                           0.64       200\n",
      "   macro avg       0.53      0.56      0.48       200\n",
      "weighted avg       0.68      0.64      0.56       200\n",
      "\n"
     ]
    }
   ],
   "source": [
    "gnb=GaussianNB()\n",
    "gnb.fit(x_train,y_train)\n",
    "predict_gnb=gnb.predict(x_test)\n",
    "print(accuracy_score(y_test,predict_gnb))\n",
    "print(confusion_matrix(y_test,predict_gnb))\n",
    "print(classification_report(y_test,predict_gnb))\n"
   ]
  },
  {
   "cell_type": "markdown",
   "id": "f9b68878",
   "metadata": {},
   "source": [
    "# Decision Tree Classification\n",
    "\n"
   ]
  },
  {
   "cell_type": "code",
   "execution_count": 31,
   "id": "be349031",
   "metadata": {},
   "outputs": [
    {
     "name": "stdout",
     "output_type": "stream",
     "text": [
      "0.645\n",
      "[[ 5  2  0  0  0  0  0  0]\n",
      " [ 8 36  3  7  4  0  0  0]\n",
      " [ 1  8  5  6  0  1  0  0]\n",
      " [ 0 15  9 26  1  0  0  0]\n",
      " [ 0  0  0  0  1  0  0  0]\n",
      " [ 1  2  0  2  0  0  0  0]\n",
      " [ 0  0  0  0  0  0 27  0]\n",
      " [ 0  0  0  0  0  0  1 29]]\n",
      "              precision    recall  f1-score   support\n",
      "\n",
      "           0       0.33      0.71      0.45         7\n",
      "           1       0.57      0.62      0.60        58\n",
      "           2       0.29      0.24      0.26        21\n",
      "           3       0.63      0.51      0.57        51\n",
      "           4       0.17      1.00      0.29         1\n",
      "           5       0.00      0.00      0.00         5\n",
      "           6       0.96      1.00      0.98        27\n",
      "           7       1.00      0.97      0.98        30\n",
      "\n",
      "    accuracy                           0.65       200\n",
      "   macro avg       0.50      0.63      0.52       200\n",
      "weighted avg       0.65      0.65      0.64       200\n",
      "\n"
     ]
    }
   ],
   "source": [
    "from sklearn.tree import DecisionTreeClassifier\n",
    "dtc=DecisionTreeClassifier()\n",
    "dtc.fit(x_train,y_train)\n",
    "dtc.score(x_train,y_train)\n",
    "pred_dtc=dtc.predict(x_test)\n",
    "print(accuracy_score(y_test,pred_dtc))\n",
    "print(confusion_matrix(y_test,pred_dtc))\n",
    "print(classification_report(y_test,pred_dtc))\n",
    "\n"
   ]
  },
  {
   "cell_type": "markdown",
   "id": "7eebeb48",
   "metadata": {},
   "source": [
    "# KNeighborsClassifier"
   ]
  },
  {
   "cell_type": "code",
   "execution_count": 32,
   "id": "ce1fa915",
   "metadata": {},
   "outputs": [
    {
     "name": "stdout",
     "output_type": "stream",
     "text": [
      "0.695\n",
      "[[ 6  1  0  0  0  0  0  0]\n",
      " [ 9 40  4  5  0  0  0  0]\n",
      " [ 2  8  4  6  0  0  1  0]\n",
      " [ 0  9  8 34  0  0  0  0]\n",
      " [ 0  0  1  0  0  0  0  0]\n",
      " [ 1  2  1  1  0  0  0  0]\n",
      " [ 0  0  0  0  0  0 25  2]\n",
      " [ 0  0  0  0  0  0  0 30]]\n",
      "              precision    recall  f1-score   support\n",
      "\n",
      "           0       0.33      0.86      0.48         7\n",
      "           1       0.67      0.69      0.68        58\n",
      "           2       0.22      0.19      0.21        21\n",
      "           3       0.74      0.67      0.70        51\n",
      "           4       0.00      0.00      0.00         1\n",
      "           5       0.00      0.00      0.00         5\n",
      "           6       0.96      0.93      0.94        27\n",
      "           7       0.94      1.00      0.97        30\n",
      "\n",
      "    accuracy                           0.69       200\n",
      "   macro avg       0.48      0.54      0.50       200\n",
      "weighted avg       0.69      0.69      0.69       200\n",
      "\n"
     ]
    }
   ],
   "source": [
    "from sklearn.neighbors import KNeighborsClassifier\n",
    "kmn=KNeighborsClassifier(n_neighbors=5)\n",
    "kmn.fit(x_train,y_train)\n",
    "kmn.score(x_train,y_train)\n",
    "pred_kmn=kmn.predict(x_test)\n",
    "print(accuracy_score(y_test,pred_kmn))\n",
    "print(confusion_matrix(y_test,pred_kmn))\n",
    "print(classification_report(y_test,pred_kmn))\n",
    "\n"
   ]
  },
  {
   "cell_type": "markdown",
   "id": "f86551d9",
   "metadata": {},
   "source": [
    "# Logistic Regression\n",
    "\n"
   ]
  },
  {
   "cell_type": "code",
   "execution_count": 33,
   "id": "59463c1d",
   "metadata": {},
   "outputs": [],
   "source": [
    "from sklearn.linear_model import LogisticRegression\n",
    "lr = LogisticRegression()\n",
    "from sklearn.metrics import accuracy_score\n"
   ]
  },
  {
   "cell_type": "code",
   "execution_count": 34,
   "id": "76673dd2",
   "metadata": {},
   "outputs": [
    {
     "name": "stdout",
     "output_type": "stream",
     "text": [
      "At random state 85 The model perform very well\n",
      "At random_state:- 85\n",
      "Training accuracy score is  52.6\n",
      "Training accuracy score is  52.6 \n",
      "\n",
      "\n",
      "At random state 91 The model perform very well\n",
      "At random_state:- 91\n",
      "Training accuracy score is  55.1\n",
      "Training accuracy score is  55.1 \n",
      "\n",
      "\n",
      "At random state 106 The model perform very well\n",
      "At random_state:- 106\n",
      "Training accuracy score is  53.7\n",
      "Training accuracy score is  53.7 \n",
      "\n",
      "\n",
      "At random state 108 The model perform very well\n",
      "At random_state:- 108\n",
      "Training accuracy score is  53.7\n",
      "Training accuracy score is  53.7 \n",
      "\n",
      "\n",
      "At random state 154 The model perform very well\n",
      "At random_state:- 154\n",
      "Training accuracy score is  56.2\n",
      "Training accuracy score is  56.2 \n",
      "\n",
      "\n",
      "At random state 167 The model perform very well\n",
      "At random_state:- 167\n",
      "Training accuracy score is  52.9\n",
      "Training accuracy score is  52.9 \n",
      "\n",
      "\n",
      "At random state 363 The model perform very well\n",
      "At random_state:- 363\n",
      "Training accuracy score is  53.7\n",
      "Training accuracy score is  53.7 \n",
      "\n",
      "\n",
      "At random state 532 The model perform very well\n",
      "At random_state:- 532\n",
      "Training accuracy score is  52.6\n",
      "Training accuracy score is  52.6 \n",
      "\n",
      "\n",
      "At random state 655 The model perform very well\n",
      "At random_state:- 655\n",
      "Training accuracy score is  51.5\n",
      "Training accuracy score is  51.5 \n",
      "\n",
      "\n",
      "At random state 667 The model perform very well\n",
      "At random_state:- 667\n",
      "Training accuracy score is  54.0\n",
      "Training accuracy score is  54.0 \n",
      "\n",
      "\n",
      "At random state 678 The model perform very well\n",
      "At random_state:- 678\n",
      "Training accuracy score is  56.2\n",
      "Training accuracy score is  56.2 \n",
      "\n",
      "\n",
      "At random state 768 The model perform very well\n",
      "At random_state:- 768\n",
      "Training accuracy score is  54.0\n",
      "Training accuracy score is  54.0 \n",
      "\n",
      "\n"
     ]
    }
   ],
   "source": [
    "for i in range(0,1000):\n",
    "    x_train,x_test,y_train,y_test = train_test_split(x,y,random_state=i,test_size=0.7)\n",
    "    lr.fit(x_train,y_train)\n",
    "    pred_train=lr.predict(x_train)\n",
    "    pred_test=lr.predict(x_test)\n",
    "    if round(accuracy_score(y_train,pred_train)*100,1)==round(accuracy_score(y_test,pred_test)*100,1):\n",
    "        print(\"At random state\", i,\"The model perform very well\")\n",
    "        print(\"At random_state:-\",i)\n",
    "        print(\"Training accuracy score is \", round(accuracy_score(y_train,pred_train)*100,1))\n",
    "        print(\"Training accuracy score is \", round(accuracy_score(y_test,pred_test)*100,1), '\\n\\n')\n"
   ]
  },
  {
   "cell_type": "code",
   "execution_count": 35,
   "id": "291853d5",
   "metadata": {},
   "outputs": [
    {
     "name": "stdout",
     "output_type": "stream",
     "text": [
      "At cv:  2\n",
      "Cross validation score is  49.17194231311569\n",
      "Accuracy score is  55.59055118110236\n",
      "\n",
      "\n",
      "At cv:  3\n",
      "Cross validation score is  50.280491625321474\n",
      "Accuracy score is  55.59055118110236\n",
      "\n",
      "\n",
      "At cv:  4\n",
      "Cross validation score is  52.48430860395305\n",
      "Accuracy score is  55.59055118110236\n",
      "\n",
      "\n",
      "At cv:  5\n",
      "Cross validation score is  53.042316799222874\n",
      "Accuracy score is  55.59055118110236\n",
      "\n",
      "\n",
      "At cv:  6\n",
      "Cross validation score is  53.480451957708844\n",
      "Accuracy score is  55.59055118110236\n",
      "\n",
      "\n",
      "At cv:  7\n",
      "Cross validation score is  53.047107930828865\n",
      "Accuracy score is  55.59055118110236\n",
      "\n",
      "\n",
      "At cv:  8\n",
      "Cross validation score is  53.48936500543394\n",
      "Accuracy score is  55.59055118110236\n",
      "\n",
      "\n",
      "At cv:  9\n",
      "Cross validation score is  53.26072607260727\n",
      "Accuracy score is  55.59055118110236\n",
      "\n",
      "\n"
     ]
    }
   ],
   "source": [
    "pred_lr = lr.predict(x_test)\n",
    "from sklearn.model_selection import cross_val_score\n",
    "lss = accuracy_score(y_test,pred_lr)\n",
    "for j in range(2,10):\n",
    "    lsscore = cross_val_score(lr,x,y,cv=j)\n",
    "    lsc = lsscore.mean()\n",
    "    print(\"At cv: \",j)\n",
    "    print(\"Cross validation score is \", lsc*100)\n",
    "    print(\"Accuracy score is \", lss*100)\n",
    "    print(\"\\n\")\n"
   ]
  },
  {
   "cell_type": "code",
   "execution_count": 36,
   "id": "7fedaefd",
   "metadata": {},
   "outputs": [
    {
     "name": "stdout",
     "output_type": "stream",
     "text": [
      "The cv score is  0.5348045195770884 \n",
      "The accuracy score is  0.5559055118110237\n"
     ]
    }
   ],
   "source": [
    "lsscore_selected = cross_val_score(lr,x,y,cv=6).mean()\n",
    "print(\"The cv score is \", lsscore_selected, \"\\nThe accuracy score is \", lss)\n"
   ]
  },
  {
   "cell_type": "code",
   "execution_count": 37,
   "id": "d56e285b",
   "metadata": {},
   "outputs": [
    {
     "data": {
      "image/png": "[encoded data removed]",
      "text/plain": [
       "<Figure size 576x432 with 1 Axes>"
      ]
     },
     "metadata": {
      "needs_background": "light"
     },
     "output_type": "display_data"
    }
   ],
   "source": [
    "plt.figure(figsize=(8,6))\n",
    "plt.scatter(x=y_test, y=pred_test, color='r')\n",
    "plt.plot(y_test,y_test, color='b')\n",
    "plt.xlabel('Actual Survive',fontsize=14)\n",
    "plt.ylabel('Predicted Survive',fontsize=14)\n",
    "plt.title('GaussianNB',fontsize=18)\n",
    "plt.show()\n"
   ]
  },
  {
   "cell_type": "markdown",
   "id": "3b379246",
   "metadata": {},
   "source": [
    "# Data Modelling where objective is \"capacity_mw\"\n",
    "\n"
   ]
  },
  {
   "cell_type": "code",
   "execution_count": 38,
   "id": "28b08dc6",
   "metadata": {},
   "outputs": [
    {
     "data": {
      "text/plain": [
       "primary_fuel   -0.380395\n",
       "gppd_idnr      -0.335742\n",
       "source         -0.242122\n",
       "capacity_mw     1.000000\n",
       "country              NaN\n",
       "country_long         NaN\n",
       "Name: capacity_mw, dtype: float64"
      ]
     },
     "execution_count": 38,
     "metadata": {},
     "output_type": "execute_result"
    }
   ],
   "source": [
    "df.corr()['capacity_mw'].sort_values()\n"
   ]
  },
  {
   "cell_type": "code",
   "execution_count": 39,
   "id": "45e65f2d",
   "metadata": {},
   "outputs": [],
   "source": [
    "x=df.drop(\"capacity_mw\", axis=1)\n",
    "y=df[\"capacity_mw\"]\n"
   ]
  },
  {
   "cell_type": "code",
   "execution_count": 40,
   "id": "5792fc1c",
   "metadata": {},
   "outputs": [],
   "source": [
    "from sklearn.preprocessing import MinMaxScaler\n",
    "mms=MinMaxScaler()\n",
    "from sklearn.linear_model import LinearRegression\n",
    "lr=LinearRegression()\n",
    "from sklearn.metrics import r2_score\n",
    "from sklearn.model_selection import train_test_split\n",
    "import warnings\n",
    "warnings.filterwarnings('ignore')\n"
   ]
  },
  {
   "cell_type": "code",
   "execution_count": 41,
   "id": "d787d420",
   "metadata": {},
   "outputs": [
    {
     "name": "stdout",
     "output_type": "stream",
     "text": [
      "At random state 0, the training accuracy is 0.18087505824306804\n",
      "At random state 0, the testing accuracy is 0.24939272888594188\n",
      "\n",
      "\n",
      "At random state 1, the training accuracy is 0.18087505824306804\n",
      "At random state 1, the testing accuracy is 0.24939272888594188\n",
      "\n",
      "\n",
      "At random state 2, the training accuracy is 0.18087505824306804\n",
      "At random state 2, the testing accuracy is 0.24939272888594188\n",
      "\n",
      "\n",
      "At random state 3, the training accuracy is 0.18087505824306804\n",
      "At random state 3, the testing accuracy is 0.24939272888594188\n",
      "\n",
      "\n",
      "At random state 4, the training accuracy is 0.18087505824306804\n",
      "At random state 4, the testing accuracy is 0.24939272888594188\n",
      "\n",
      "\n",
      "At random state 5, the training accuracy is 0.18087505824306804\n",
      "At random state 5, the testing accuracy is 0.24939272888594188\n",
      "\n",
      "\n",
      "At random state 6, the training accuracy is 0.18087505824306804\n",
      "At random state 6, the testing accuracy is 0.24939272888594188\n",
      "\n",
      "\n",
      "At random state 7, the training accuracy is 0.18087505824306804\n",
      "At random state 7, the testing accuracy is 0.24939272888594188\n",
      "\n",
      "\n",
      "At random state 8, the training accuracy is 0.18087505824306804\n",
      "At random state 8, the testing accuracy is 0.24939272888594188\n",
      "\n",
      "\n",
      "At random state 9, the training accuracy is 0.18087505824306804\n",
      "At random state 9, the testing accuracy is 0.24939272888594188\n",
      "\n",
      "\n",
      "At random state 10, the training accuracy is 0.18087505824306804\n",
      "At random state 10, the testing accuracy is 0.24939272888594188\n",
      "\n",
      "\n",
      "At random state 11, the training accuracy is 0.18087505824306804\n",
      "At random state 11, the testing accuracy is 0.24939272888594188\n",
      "\n",
      "\n",
      "At random state 12, the training accuracy is 0.18087505824306804\n",
      "At random state 12, the testing accuracy is 0.24939272888594188\n",
      "\n",
      "\n",
      "At random state 13, the training accuracy is 0.18087505824306804\n",
      "At random state 13, the testing accuracy is 0.24939272888594188\n",
      "\n",
      "\n",
      "At random state 14, the training accuracy is 0.18087505824306804\n",
      "At random state 14, the testing accuracy is 0.24939272888594188\n",
      "\n",
      "\n",
      "At random state 15, the training accuracy is 0.18087505824306804\n",
      "At random state 15, the testing accuracy is 0.24939272888594188\n",
      "\n",
      "\n",
      "At random state 16, the training accuracy is 0.18087505824306804\n",
      "At random state 16, the testing accuracy is 0.24939272888594188\n",
      "\n",
      "\n",
      "At random state 17, the training accuracy is 0.18087505824306804\n",
      "At random state 17, the testing accuracy is 0.24939272888594188\n",
      "\n",
      "\n",
      "At random state 18, the training accuracy is 0.18087505824306804\n",
      "At random state 18, the testing accuracy is 0.24939272888594188\n",
      "\n",
      "\n",
      "At random state 19, the training accuracy is 0.18087505824306804\n",
      "At random state 19, the testing accuracy is 0.24939272888594188\n",
      "\n",
      "\n",
      "At random state 20, the training accuracy is 0.18087505824306804\n",
      "At random state 20, the testing accuracy is 0.24939272888594188\n",
      "\n",
      "\n",
      "At random state 21, the training accuracy is 0.18087505824306804\n",
      "At random state 21, the testing accuracy is 0.24939272888594188\n",
      "\n",
      "\n",
      "At random state 22, the training accuracy is 0.18087505824306804\n",
      "At random state 22, the testing accuracy is 0.24939272888594188\n",
      "\n",
      "\n",
      "At random state 23, the training accuracy is 0.18087505824306804\n",
      "At random state 23, the testing accuracy is 0.24939272888594188\n",
      "\n",
      "\n",
      "At random state 24, the training accuracy is 0.18087505824306804\n",
      "At random state 24, the testing accuracy is 0.24939272888594188\n",
      "\n",
      "\n",
      "At random state 25, the training accuracy is 0.18087505824306804\n",
      "At random state 25, the testing accuracy is 0.24939272888594188\n",
      "\n",
      "\n",
      "At random state 26, the training accuracy is 0.18087505824306804\n",
      "At random state 26, the testing accuracy is 0.24939272888594188\n",
      "\n",
      "\n",
      "At random state 27, the training accuracy is 0.18087505824306804\n",
      "At random state 27, the testing accuracy is 0.24939272888594188\n",
      "\n",
      "\n",
      "At random state 28, the training accuracy is 0.18087505824306804\n",
      "At random state 28, the testing accuracy is 0.24939272888594188\n",
      "\n",
      "\n",
      "At random state 29, the training accuracy is 0.18087505824306804\n",
      "At random state 29, the testing accuracy is 0.24939272888594188\n",
      "\n",
      "\n",
      "At random state 30, the training accuracy is 0.18087505824306804\n",
      "At random state 30, the testing accuracy is 0.24939272888594188\n",
      "\n",
      "\n",
      "At random state 31, the training accuracy is 0.18087505824306804\n",
      "At random state 31, the testing accuracy is 0.24939272888594188\n",
      "\n",
      "\n",
      "At random state 32, the training accuracy is 0.18087505824306804\n",
      "At random state 32, the testing accuracy is 0.24939272888594188\n",
      "\n",
      "\n",
      "At random state 33, the training accuracy is 0.18087505824306804\n",
      "At random state 33, the testing accuracy is 0.24939272888594188\n",
      "\n",
      "\n",
      "At random state 34, the training accuracy is 0.18087505824306804\n",
      "At random state 34, the testing accuracy is 0.24939272888594188\n",
      "\n",
      "\n",
      "At random state 35, the training accuracy is 0.18087505824306804\n",
      "At random state 35, the testing accuracy is 0.24939272888594188\n",
      "\n",
      "\n",
      "At random state 36, the training accuracy is 0.18087505824306804\n",
      "At random state 36, the testing accuracy is 0.24939272888594188\n",
      "\n",
      "\n",
      "At random state 37, the training accuracy is 0.18087505824306804\n",
      "At random state 37, the testing accuracy is 0.24939272888594188\n",
      "\n",
      "\n",
      "At random state 38, the training accuracy is 0.18087505824306804\n",
      "At random state 38, the testing accuracy is 0.24939272888594188\n",
      "\n",
      "\n",
      "At random state 39, the training accuracy is 0.18087505824306804\n",
      "At random state 39, the testing accuracy is 0.24939272888594188\n",
      "\n",
      "\n",
      "At random state 40, the training accuracy is 0.18087505824306804\n",
      "At random state 40, the testing accuracy is 0.24939272888594188\n",
      "\n",
      "\n",
      "At random state 41, the training accuracy is 0.18087505824306804\n",
      "At random state 41, the testing accuracy is 0.24939272888594188\n",
      "\n",
      "\n",
      "At random state 42, the training accuracy is 0.18087505824306804\n",
      "At random state 42, the testing accuracy is 0.24939272888594188\n",
      "\n",
      "\n",
      "At random state 43, the training accuracy is 0.18087505824306804\n",
      "At random state 43, the testing accuracy is 0.24939272888594188\n",
      "\n",
      "\n",
      "At random state 44, the training accuracy is 0.18087505824306804\n",
      "At random state 44, the testing accuracy is 0.24939272888594188\n",
      "\n",
      "\n",
      "At random state 45, the training accuracy is 0.18087505824306804\n",
      "At random state 45, the testing accuracy is 0.24939272888594188\n",
      "\n",
      "\n",
      "At random state 46, the training accuracy is 0.18087505824306804\n",
      "At random state 46, the testing accuracy is 0.24939272888594188\n",
      "\n",
      "\n",
      "At random state 47, the training accuracy is 0.18087505824306804\n",
      "At random state 47, the testing accuracy is 0.24939272888594188\n",
      "\n",
      "\n",
      "At random state 48, the training accuracy is 0.18087505824306804\n",
      "At random state 48, the testing accuracy is 0.24939272888594188\n",
      "\n",
      "\n",
      "At random state 49, the training accuracy is 0.18087505824306804\n",
      "At random state 49, the testing accuracy is 0.24939272888594188\n",
      "\n",
      "\n",
      "At random state 50, the training accuracy is 0.18087505824306804\n",
      "At random state 50, the testing accuracy is 0.24939272888594188\n",
      "\n",
      "\n",
      "At random state 51, the training accuracy is 0.18087505824306804\n",
      "At random state 51, the testing accuracy is 0.24939272888594188\n",
      "\n",
      "\n",
      "At random state 52, the training accuracy is 0.18087505824306804\n",
      "At random state 52, the testing accuracy is 0.24939272888594188\n",
      "\n",
      "\n",
      "At random state 53, the training accuracy is 0.18087505824306804\n",
      "At random state 53, the testing accuracy is 0.24939272888594188\n",
      "\n",
      "\n",
      "At random state 54, the training accuracy is 0.18087505824306804\n",
      "At random state 54, the testing accuracy is 0.24939272888594188\n",
      "\n",
      "\n",
      "At random state 55, the training accuracy is 0.18087505824306804\n",
      "At random state 55, the testing accuracy is 0.24939272888594188\n",
      "\n",
      "\n",
      "At random state 56, the training accuracy is 0.18087505824306804\n",
      "At random state 56, the testing accuracy is 0.24939272888594188\n",
      "\n",
      "\n",
      "At random state 57, the training accuracy is 0.18087505824306804\n",
      "At random state 57, the testing accuracy is 0.24939272888594188\n",
      "\n",
      "\n",
      "At random state 58, the training accuracy is 0.18087505824306804\n",
      "At random state 58, the testing accuracy is 0.24939272888594188\n",
      "\n",
      "\n",
      "At random state 59, the training accuracy is 0.18087505824306804\n",
      "At random state 59, the testing accuracy is 0.24939272888594188\n",
      "\n",
      "\n",
      "At random state 60, the training accuracy is 0.18087505824306804\n",
      "At random state 60, the testing accuracy is 0.24939272888594188\n",
      "\n",
      "\n",
      "At random state 61, the training accuracy is 0.18087505824306804\n",
      "At random state 61, the testing accuracy is 0.24939272888594188\n",
      "\n",
      "\n",
      "At random state 62, the training accuracy is 0.18087505824306804\n",
      "At random state 62, the testing accuracy is 0.24939272888594188\n",
      "\n",
      "\n",
      "At random state 63, the training accuracy is 0.18087505824306804\n",
      "At random state 63, the testing accuracy is 0.24939272888594188\n",
      "\n",
      "\n",
      "At random state 64, the training accuracy is 0.18087505824306804\n",
      "At random state 64, the testing accuracy is 0.24939272888594188\n",
      "\n",
      "\n",
      "At random state 65, the training accuracy is 0.18087505824306804\n",
      "At random state 65, the testing accuracy is 0.24939272888594188\n",
      "\n",
      "\n",
      "At random state 66, the training accuracy is 0.18087505824306804\n",
      "At random state 66, the testing accuracy is 0.24939272888594188\n",
      "\n",
      "\n",
      "At random state 67, the training accuracy is 0.18087505824306804\n",
      "At random state 67, the testing accuracy is 0.24939272888594188\n",
      "\n",
      "\n",
      "At random state 68, the training accuracy is 0.18087505824306804\n",
      "At random state 68, the testing accuracy is 0.24939272888594188\n",
      "\n",
      "\n",
      "At random state 69, the training accuracy is 0.18087505824306804\n",
      "At random state 69, the testing accuracy is 0.24939272888594188\n",
      "\n",
      "\n",
      "At random state 70, the training accuracy is 0.18087505824306804\n",
      "At random state 70, the testing accuracy is 0.24939272888594188\n",
      "\n",
      "\n",
      "At random state 71, the training accuracy is 0.18087505824306804\n",
      "At random state 71, the testing accuracy is 0.24939272888594188\n",
      "\n",
      "\n",
      "At random state 72, the training accuracy is 0.18087505824306804\n",
      "At random state 72, the testing accuracy is 0.24939272888594188\n",
      "\n",
      "\n",
      "At random state 73, the training accuracy is 0.18087505824306804\n",
      "At random state 73, the testing accuracy is 0.24939272888594188\n",
      "\n",
      "\n",
      "At random state 74, the training accuracy is 0.18087505824306804\n",
      "At random state 74, the testing accuracy is 0.24939272888594188\n",
      "\n",
      "\n",
      "At random state 75, the training accuracy is 0.18087505824306804\n",
      "At random state 75, the testing accuracy is 0.24939272888594188\n",
      "\n",
      "\n",
      "At random state 76, the training accuracy is 0.18087505824306804\n",
      "At random state 76, the testing accuracy is 0.24939272888594188\n",
      "\n",
      "\n",
      "At random state 77, the training accuracy is 0.18087505824306804\n",
      "At random state 77, the testing accuracy is 0.24939272888594188\n",
      "\n",
      "\n",
      "At random state 78, the training accuracy is 0.18087505824306804\n",
      "At random state 78, the testing accuracy is 0.24939272888594188\n",
      "\n",
      "\n",
      "At random state 79, the training accuracy is 0.18087505824306804\n",
      "At random state 79, the testing accuracy is 0.24939272888594188\n",
      "\n",
      "\n",
      "At random state 80, the training accuracy is 0.18087505824306804\n",
      "At random state 80, the testing accuracy is 0.24939272888594188\n",
      "\n",
      "\n",
      "At random state 81, the training accuracy is 0.18087505824306804\n",
      "At random state 81, the testing accuracy is 0.24939272888594188\n",
      "\n",
      "\n"
     ]
    },
    {
     "name": "stdout",
     "output_type": "stream",
     "text": [
      "At random state 82, the training accuracy is 0.18087505824306804\n",
      "At random state 82, the testing accuracy is 0.24939272888594188\n",
      "\n",
      "\n",
      "At random state 83, the training accuracy is 0.18087505824306804\n",
      "At random state 83, the testing accuracy is 0.24939272888594188\n",
      "\n",
      "\n",
      "At random state 84, the training accuracy is 0.18087505824306804\n",
      "At random state 84, the testing accuracy is 0.24939272888594188\n",
      "\n",
      "\n",
      "At random state 85, the training accuracy is 0.18087505824306804\n",
      "At random state 85, the testing accuracy is 0.24939272888594188\n",
      "\n",
      "\n",
      "At random state 86, the training accuracy is 0.18087505824306804\n",
      "At random state 86, the testing accuracy is 0.24939272888594188\n",
      "\n",
      "\n",
      "At random state 87, the training accuracy is 0.18087505824306804\n",
      "At random state 87, the testing accuracy is 0.24939272888594188\n",
      "\n",
      "\n",
      "At random state 88, the training accuracy is 0.18087505824306804\n",
      "At random state 88, the testing accuracy is 0.24939272888594188\n",
      "\n",
      "\n",
      "At random state 89, the training accuracy is 0.18087505824306804\n",
      "At random state 89, the testing accuracy is 0.24939272888594188\n",
      "\n",
      "\n",
      "At random state 90, the training accuracy is 0.18087505824306804\n",
      "At random state 90, the testing accuracy is 0.24939272888594188\n",
      "\n",
      "\n",
      "At random state 91, the training accuracy is 0.18087505824306804\n",
      "At random state 91, the testing accuracy is 0.24939272888594188\n",
      "\n",
      "\n",
      "At random state 92, the training accuracy is 0.18087505824306804\n",
      "At random state 92, the testing accuracy is 0.24939272888594188\n",
      "\n",
      "\n",
      "At random state 93, the training accuracy is 0.18087505824306804\n",
      "At random state 93, the testing accuracy is 0.24939272888594188\n",
      "\n",
      "\n",
      "At random state 94, the training accuracy is 0.18087505824306804\n",
      "At random state 94, the testing accuracy is 0.24939272888594188\n",
      "\n",
      "\n",
      "At random state 95, the training accuracy is 0.18087505824306804\n",
      "At random state 95, the testing accuracy is 0.24939272888594188\n",
      "\n",
      "\n",
      "At random state 96, the training accuracy is 0.18087505824306804\n",
      "At random state 96, the testing accuracy is 0.24939272888594188\n",
      "\n",
      "\n",
      "At random state 97, the training accuracy is 0.18087505824306804\n",
      "At random state 97, the testing accuracy is 0.24939272888594188\n",
      "\n",
      "\n",
      "At random state 98, the training accuracy is 0.18087505824306804\n",
      "At random state 98, the testing accuracy is 0.24939272888594188\n",
      "\n",
      "\n",
      "At random state 99, the training accuracy is 0.18087505824306804\n",
      "At random state 99, the testing accuracy is 0.24939272888594188\n",
      "\n",
      "\n"
     ]
    }
   ],
   "source": [
    "for i in range(0,100):\n",
    "    x_train,x_test,y_train,y_test = train_test_split(x,y,test_size=0.2,random_state=43)\n",
    "    lr.fit(x_train,y_train)\n",
    "    pred_train=lr.predict(x_train)\n",
    "    pred_test = lr.predict(x_test)\n",
    "    print(f\"At random state {i}, the training accuracy is {r2_score(y_train,pred_train)}\")\n",
    "    print(f\"At random state {i}, the testing accuracy is {r2_score(y_test,pred_test)}\")\n",
    "    print(\"\\n\")\n"
   ]
  },
  {
   "cell_type": "code",
   "execution_count": 42,
   "id": "761d3fe8",
   "metadata": {},
   "outputs": [],
   "source": [
    "from sklearn.model_selection import GridSearchCV\n",
    "from sklearn.model_selection import cross_val_score\n",
    "from sklearn.linear_model import Lasso\n"
   ]
  },
  {
   "cell_type": "code",
   "execution_count": 43,
   "id": "bfd109bf",
   "metadata": {},
   "outputs": [
    {
     "name": "stdout",
     "output_type": "stream",
     "text": [
      "{'alpha': 10, 'random_state': 0}\n"
     ]
    }
   ],
   "source": [
    "parameters = {'alpha':[.001, .01, .1, 1, 10], 'random_state': list(range(0,10))}\n",
    "ls = Lasso()\n",
    "clf= GridSearchCV(ls,parameters)\n",
    "clf.fit(x_train,y_train)\n",
    "print(clf.best_params_)\n"
   ]
  },
  {
   "cell_type": "code",
   "execution_count": 44,
   "id": "8272f106",
   "metadata": {},
   "outputs": [
    {
     "data": {
      "text/plain": [
       "18.077949652733917"
      ]
     },
     "execution_count": 44,
     "metadata": {},
     "output_type": "execute_result"
    }
   ],
   "source": [
    "ls=Lasso(alpha=10,random_state=0)\n",
    "ls.fit(x_train,y_train)\n",
    "ls_score_training=ls.score(x_train,y_train)\n",
    "pred_ls = ls.predict(x_test)\n",
    "ls_score_training*100\n"
   ]
  },
  {
   "cell_type": "code",
   "execution_count": 45,
   "id": "fca94f1e",
   "metadata": {},
   "outputs": [
    {
     "data": {
      "text/plain": [
       "24.829407033432616"
      ]
     },
     "execution_count": 45,
     "metadata": {},
     "output_type": "execute_result"
    }
   ],
   "source": [
    "pred_ls=ls.predict(x_test)\n",
    "lss=r2_score(y_test,pred_ls)\n",
    "lss*100\n"
   ]
  },
  {
   "cell_type": "code",
   "execution_count": 46,
   "id": "bdc182c0",
   "metadata": {},
   "outputs": [
    {
     "data": {
      "text/plain": [
       "17.389771359324953"
      ]
     },
     "execution_count": 46,
     "metadata": {},
     "output_type": "execute_result"
    }
   ],
   "source": [
    "cv_score = cross_val_score(ls,x,y,cv=5)\n",
    "cv_mean = cv_score.mean()\n",
    "cv_mean*100"
   ]
  },
  {
   "cell_type": "code",
   "execution_count": 47,
   "id": "208051e5",
   "metadata": {},
   "outputs": [
    {
     "name": "stdout",
     "output_type": "stream",
     "text": [
      "{'criterion': 'mse', 'max_features': 'log2'}\n"
     ]
    }
   ],
   "source": [
    "from sklearn.ensemble import RandomForestRegressor\n",
    "\n",
    "parameters = {'criterion':['mse','mae'],'max_features':['auto','sqrt','log2']}\n",
    "rf = RandomForestRegressor()\n",
    "clf = GridSearchCV(rf,parameters)\n",
    "clf.fit(x_train,y_train)\n",
    "\n",
    "print(clf.best_params_)\n"
   ]
  },
  {
   "cell_type": "code",
   "execution_count": 49,
   "id": "0dc52f57",
   "metadata": {},
   "outputs": [
    {
     "name": "stdout",
     "output_type": "stream",
     "text": [
      "R2 Score:  26.7608048037124\n",
      "Cross Val Score:  25.864230915160917\n"
     ]
    }
   ],
   "source": [
    "rf = RandomForestRegressor(criterion=\"mse\",max_features=\"sqrt\")\n",
    "rf.fit(x_train, y_train)\n",
    "rf.score(x_train,y_train)\n",
    "pred_decision = rf.predict(x_test)\n",
    "\n",
    "rfs = r2_score(y_test,pred_decision) \n",
    "print('R2 Score: ',rfs*100)\n",
    "\n",
    "rfscore = cross_val_score(rf,x,y,cv=5)\n",
    "rfc = rfscore.mean()\n",
    "print('Cross Val Score: ',rfc*100)\n"
   ]
  },
  {
   "cell_type": "raw",
   "id": "d73a5e55",
   "metadata": {},
   "source": [
    "# Conclussion: Modelling validation score found found for primary_fuel is aound 65 to 69 but poor cross validation score found for capacity_mw.\n",
    "\n"
   ]
  },
  {
   "cell_type": "code",
   "execution_count": 50,
   "id": "feae8f32",
   "metadata": {},
   "outputs": [],
   "source": [
    "import pickle\n",
    "filename = 'globalpowerplant.pkl'\n",
    "pickle.dump(lr, open(filename,'wb'))"
   ]
  },
  {
   "cell_type": "code",
   "execution_count": null,
   "id": "e37eea72",
   "metadata": {},
   "outputs": [],
   "source": []
  }
 ],
 "metadata": {
  "kernelspec": {
   "display_name": "Python 3 (ipykernel)",
   "language": "python",
   "name": "python3"
  },
  "language_info": {
   "codemirror_mode": {
    "name": "ipython",
    "version": 3
   },
   "file_extension": ".py",
   "mimetype": "text/x-python",
   "name": "python",
   "nbconvert_exporter": "python",
   "pygments_lexer": "ipython3",
   "version": "3.9.7"
  }
 },
 "nbformat": 4,
 "nbformat_minor": 5
}
